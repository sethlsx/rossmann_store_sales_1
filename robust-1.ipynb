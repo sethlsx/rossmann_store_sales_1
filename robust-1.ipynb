{
 "cells": [
  {
   "cell_type": "markdown",
   "metadata": {},
   "source": [
    "这个文件专门用来测试异常值下已训练好的模型的稳定性。"
   ]
  },
  {
   "cell_type": "code",
   "execution_count": 15,
   "metadata": {},
   "outputs": [
    {
     "name": "stdout",
     "output_type": "stream",
     "text": [
      "合并前：\n",
      "830918\n",
      "13420\n",
      "41088\n",
      "合并后：\n",
      "830918\n",
      "13420\n",
      "41088\n"
     ]
    }
   ],
   "source": [
    "import numpy as np\n",
    "import xgboost as xgb\n",
    "import pandas as pd\n",
    "from IPython.display import display #方便对数据进行可视化\n",
    "import time\n",
    "import datetime\n",
    "from matplotlib import pyplot\n",
    "def rmspe(y, y_hat):\n",
    "    #由于sales取了对数，这里要还原\n",
    "    y = np.exp(y)\n",
    "    y_hat = np.exp(y_hat)\n",
    "    \n",
    "    #由于有yi=0的情况，直接计算会得出无穷大的结果，所以需要处理一下\n",
    "    #定义一个y_rev来表示y的倒数，y为0时y_rev也赋值为0（因为在项目中提到“ Any day and store with 0 sales is ignored in scoring.“）\n",
    "    y_rev = np.zeros(y.shape, dtype = float)\n",
    "    n_zero = y != 0\n",
    "    y_rev[n_zero] = 1./y[n_zero]\n",
    "\n",
    "    rmspe = np.sqrt(np.mean(((y - y_hat)*y_rev)**2))\n",
    "    return rmspe\n",
    "\n",
    "\n",
    "#自定义一个评价函数\n",
    "\n",
    "def rmspe_feval(y_hat, dy):\n",
    "    y = dy.get_label()\n",
    "    rmspe_score = rmspe(y, y_hat)\n",
    "    return 'rmspe', rmspe_score\n",
    "\n",
    "\n",
    "#定义训练函数\n",
    "def train(param, dtrain, dval, num_round, feval_c, stopping):\n",
    "    train_time = time.clock()\n",
    "\n",
    "    model = xgb.train(\n",
    "        param, dtrain, num_round, feval = feval_c, \n",
    "        evals = [(dtrain, 'train'), (dval, 'val')], early_stopping_rounds = stopping, \n",
    "        verbose_eval = True\n",
    "    )\n",
    "\n",
    "    train_time = time.clock() - train_time\n",
    "\n",
    "    print('The training time of the model is: {:.0f}s'.format(train_time))\n",
    "    \n",
    "    return model\n",
    "\n",
    "#定义一个打分函数\n",
    "def score(bst, dval):\n",
    "    y_pred = bst.predict(dval)\n",
    "#print(y_pred)\n",
    "    y_val = dval.get_label()\n",
    "    score = rmspe(y_val, y_pred)\n",
    "#print(score)\n",
    "    print('The rmspe of the model on validation data set is {:.6f}'.format(score))\n",
    "    pass\n",
    "# 导入训练数据\n",
    "train_data = pd.read_csv(\n",
    "    \"train.csv\", \n",
    "    low_memory=False)\n",
    "\n",
    "store_features = pd.read_csv(\"store.csv\")\n",
    "#从头开始处理数据\n",
    "\n",
    "# 导入训练数据\n",
    "train_data = pd.read_csv(\n",
    "    \"train.csv\", \n",
    "    low_memory=False)\n",
    "\n",
    "store_features = pd.read_csv(\"store.csv\")\n",
    "# 导入测试数据\n",
    "test_data = pd.read_csv(\"test.csv\")\n",
    "\n",
    "train_data['year'] = train_data['Date'].apply(lambda x: float(x.split('-')[0]))\n",
    "train_data['month'] = train_data['Date'].apply(lambda x: float(x.split('-')[1]))\n",
    "train_data['day'] = train_data['Date'].apply(lambda x: float(x.split('-')[2]))\n",
    "\n",
    "test_data['year'] = test_data['Date'].apply(lambda x: float(x.split('-')[0]))\n",
    "test_data['month'] = test_data['Date'].apply(lambda x: float(x.split('-')[1]))\n",
    "test_data['day'] = test_data['Date'].apply(lambda x: float(x.split('-')[2]))\n",
    "\n",
    "#此处增加一步，先将验证集划分出来，用训练集的最后2周作为验证集\n",
    "#打开数据文件，很容易找到，2015/7/18-2015/7/31时间范围内的数据编号为1 - 15611\n",
    "\n",
    "val_data = train_data[: 15610]\n",
    "train_data = train_data[15610:]\n",
    "\n",
    "#只使用Open和销售不为0的数据\n",
    "val_data = val_data[(val_data['Open'] == 1) & (val_data['Sales'] != 0)]\n",
    "train_data = train_data[(train_data['Open'] == 1) & (train_data['Sales'] != 0)]\n",
    "\n",
    "\n",
    "#融合\n",
    "train_data = pd.merge(train_data, store_features, on = 'Store')\n",
    "val_data = pd.merge(val_data, store_features, on = 'Store')\n",
    "test_data = pd.merge(test_data, store_features, on = 'Store')\n",
    "\n",
    "train_data = train_data.drop('Customers', axis = 1)\n",
    "sales_train = train_data['Sales']\n",
    "features_train = train_data.drop('Sales', axis = 1)\n",
    "\n",
    "val_data = val_data.drop('Customers', axis = 1)\n",
    "sales_val = val_data['Sales']\n",
    "features_val = val_data.drop('Sales', axis = 1)\n",
    "\n",
    "features_test = test_data.drop('Id', axis = 1)\n",
    "\n",
    "# 对字符串特征进行独热编码\n",
    "category = ['StoreType', 'Assortment', 'StateHoliday', 'PromoInterval']\n",
    "\n",
    "\n",
    "#首先将训练集、验证集、测试集合并，然后统一独热编码，然后再拆分为训练集、验证集、测试集\n",
    "\n",
    "print('合并前：')\n",
    "print(features_train.shape[0])\n",
    "print(features_val.shape[0])\n",
    "print(features_test.shape[0])\n",
    "\n",
    "data_merge = pd.concat([features_train, features_val], ignore_index = True)\n",
    "data_merge = pd.concat([data_merge, features_test], ignore_index = True)\n",
    "data_merge_pd = pd.get_dummies(data_merge, columns = category)\n",
    "\n",
    "#把时间数据转化为一年中的第几周\n",
    "\n",
    "data_merge_pd['Date'] = pd.to_datetime(data_merge_pd['Date'])\n",
    "data_merge_pd['weekofyear'] = data_merge_pd['Date'].dt.weekofyear\n",
    "data_merge_pd = data_merge_pd.drop('Date', axis = 1)\n",
    "\n",
    "# 需要把NA/NAN的数据转化成0\n",
    "data_merge_pd.fillna(0, inplace = True)\n",
    "\n",
    "\n",
    "#拆分\n",
    "\n",
    "features_train = data_merge_pd[ : features_train.shape[0]]\n",
    "features_val = data_merge_pd[features_train.shape[0] : (features_val.shape[0] + features_train.shape[0])]\n",
    "features_test = data_merge_pd[ (features_val.shape[0] + features_train.shape[0]) : ]\n",
    "\n",
    "print('合并后：')\n",
    "print(features_train.shape[0])\n",
    "print(features_val.shape[0])\n",
    "print(features_test.shape[0])\n",
    "\n",
    "\n",
    "\n",
    "#下面将sales做log处理\n",
    "\n",
    "sales_train_log = np.log(sales_train) #因为去掉了为0的销售数据，所以不用+1了\n",
    "sales_val_log = np.log(sales_val)\n",
    "\n",
    "dtrain = xgb.DMatrix(features_train, label = sales_train_log)\n",
    "dval = xgb.DMatrix(features_val, label = sales_val_log)\n",
    "\n"
   ]
  },
  {
   "cell_type": "code",
   "execution_count": 16,
   "metadata": {},
   "outputs": [
    {
     "name": "stdout",
     "output_type": "stream",
     "text": [
      "The rmspe of the model on validation data set is 0.108691\n"
     ]
    }
   ],
   "source": [
    "#载入模型\n",
    "\n",
    "model  = xgb.Booster()\n",
    "model.load_model('rossmann.model')\n",
    "score(model, dval)"
   ]
  },
  {
   "cell_type": "code",
   "execution_count": 17,
   "metadata": {},
   "outputs": [
    {
     "name": "stderr",
     "output_type": "stream",
     "text": [
      "/Users/liushengxi/anaconda3/lib/python3.6/site-packages/ipykernel_launcher.py:10: SettingWithCopyWarning: \n",
      "A value is trying to be set on a copy of a slice from a DataFrame.\n",
      "Try using .loc[row_indexer,col_indexer] = value instead\n",
      "\n",
      "See the caveats in the documentation: http://pandas.pydata.org/pandas-docs/stable/indexing.html#indexing-view-versus-copy\n",
      "  # Remove the CWD from sys.path while we load stuff.\n"
     ]
    }
   ],
   "source": [
    "from random import randint\n",
    "#我们把验证集中1%的数据的‘Day’这一项，改成一个随机的异常值\n",
    "one_percent = int(0.01 * features_val.shape[0])\n",
    "temp = np.array(features_val['day'])\n",
    "for i in range(0, one_percent):\n",
    "    index = randint(0, features_val.shape[0] - 1)\n",
    "    temp[index] = randint(1, 10) * 100\n",
    "    \n",
    "#features_val = features_val.drop('day', axis = 1)\n",
    "features_val['day'] = temp\n"
   ]
  },
  {
   "cell_type": "code",
   "execution_count": 18,
   "metadata": {},
   "outputs": [],
   "source": [
    "dtrain = xgb.DMatrix(features_train, label = sales_train_log)\n",
    "dval = xgb.DMatrix(features_val, label = sales_val_log)"
   ]
  },
  {
   "cell_type": "code",
   "execution_count": 19,
   "metadata": {},
   "outputs": [
    {
     "name": "stdout",
     "output_type": "stream",
     "text": [
      "The rmspe of the model on validation data set is 0.112009\n"
     ]
    }
   ],
   "source": [
    "score(model, dval)"
   ]
  },
  {
   "cell_type": "code",
   "execution_count": 20,
   "metadata": {},
   "outputs": [
    {
     "name": "stderr",
     "output_type": "stream",
     "text": [
      "/Users/liushengxi/anaconda3/lib/python3.6/site-packages/ipykernel_launcher.py:9: SettingWithCopyWarning: \n",
      "A value is trying to be set on a copy of a slice from a DataFrame.\n",
      "Try using .loc[row_indexer,col_indexer] = value instead\n",
      "\n",
      "See the caveats in the documentation: http://pandas.pydata.org/pandas-docs/stable/indexing.html#indexing-view-versus-copy\n",
      "  if __name__ == '__main__':\n"
     ]
    }
   ],
   "source": [
    "#我们把验证集中10%的数据的‘Day’这一项，改成一个随机的异常值\n",
    "one_percent = int(0.1 * features_val.shape[0])\n",
    "temp = np.array(features_val['day'])\n",
    "for i in range(0, one_percent):\n",
    "    index = randint(0, features_val.shape[0] - 1)\n",
    "    temp[index] = randint(1, 10) * 100\n",
    "    \n",
    "#features_val = features_val.drop('day', axis = 1)\n",
    "features_val['day'] = temp\n",
    "\n"
   ]
  },
  {
   "cell_type": "code",
   "execution_count": 21,
   "metadata": {},
   "outputs": [
    {
     "name": "stdout",
     "output_type": "stream",
     "text": [
      "The rmspe of the model on validation data set is 0.139846\n"
     ]
    }
   ],
   "source": [
    "dtrain = xgb.DMatrix(features_train, label = sales_train_log)\n",
    "dval = xgb.DMatrix(features_val, label = sales_val_log)\n",
    "score(model, dval)"
   ]
  },
  {
   "cell_type": "code",
   "execution_count": null,
   "metadata": {},
   "outputs": [],
   "source": []
  }
 ],
 "metadata": {
  "kernelspec": {
   "display_name": "Python 3",
   "language": "python",
   "name": "python3"
  },
  "language_info": {
   "codemirror_mode": {
    "name": "ipython",
    "version": 3
   },
   "file_extension": ".py",
   "mimetype": "text/x-python",
   "name": "python",
   "nbconvert_exporter": "python",
   "pygments_lexer": "ipython3",
   "version": "3.6.5"
  }
 },
 "nbformat": 4,
 "nbformat_minor": 2
}
